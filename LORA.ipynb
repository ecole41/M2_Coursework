{
 "cells": [
  {
   "cell_type": "code",
   "execution_count": 1,
   "metadata": {},
   "outputs": [
    {
     "name": "stderr",
     "output_type": "stream",
     "text": [
      "Sliding Window Attention is enabled but not implemented for `sdpa`; unexpected results may be encountered.\n"
     ]
    }
   ],
   "source": [
    "import qwen\n",
    "from lora_skeleton import process_sequences, LoRALinear\n",
    "import sys\n",
    "\n",
    "from preprocessor import load_and_preprocess\n",
    "\n",
    "import math\n",
    "import sys\n",
    "sys.path.append('./src') \n",
    "import torch\n",
    "import torch.nn as nn\n",
    "from torch.utils.data import DataLoader, TensorDataset\n",
    "from tqdm import tqdm\n",
    "from accelerate import Accelerator\n",
    "import wandb\n",
    "\n",
    "from preprocessor import load_and_preprocess\n",
    "from qwen import load_qwen\n",
    "import wandb"
   ]
  },
  {
   "cell_type": "code",
   "execution_count": 2,
   "metadata": {},
   "outputs": [
    {
     "name": "stderr",
     "output_type": "stream",
     "text": [
      "The attention mask is not set and cannot be inferred from input because pad token is same as eos token. As a consequence, you may observe unexpected behavior. Please pass your input's `attention_mask` to obtain reliable results.\n"
     ]
    },
    {
     "name": "stdout",
     "output_type": "stream",
     "text": [
      "What is the capital of Italy? The capital of Italy is Rome. It is the largest city in Europe and the second-largest city in\n"
     ]
    }
   ],
   "source": [
    "model , tokenizer = qwen.load_qwen()\n",
    "\n",
    "\n",
    "text = 'What is the capital of Italy?'\n",
    "tokenised_text = process_sequences([text], tokenizer)\n",
    "# print(tokenised_text)\n",
    "\n",
    "inputs = tokenizer.encode(text, return_tensors=\"pt\")\n",
    "\n",
    "predicitons = model.generate(inputs)\n",
    "\n",
    "print(tokenizer.decode(predicitons[0], skip_special_tokens=True))"
   ]
  },
  {
   "cell_type": "code",
   "execution_count": 3,
   "metadata": {},
   "outputs": [
    {
     "name": "stdout",
     "output_type": "stream",
     "text": [
      "(800,)\n",
      "(200,)\n",
      "0.28,0.30;0.21,0.23;0.20,0.16;0.21,0.12;0.24,0.09;0.29,0.07;\n"
     ]
    }
   ],
   "source": [
    "model, tokenizer = qwen.load_qwen()\n",
    "lora_rank = 4\n",
    "\n",
    "# Actually apply LoRA to the model:\n",
    "for layer in model.model.layers:\n",
    "    layer.self_attn.q_proj = LoRALinear(layer.self_attn.q_proj, r=lora_rank)\n",
    "    layer.self_attn.v_proj = LoRALinear(layer.self_attn.v_proj, r=lora_rank)\n",
    "# ^These are the parts that will actually be trained!\n",
    "\n",
    "# Process the data into sequences of text\n",
    "train_texts, val_texts, norm_factor = load_and_preprocess(\"lotka_volterra_data.h5\")\n",
    "\n",
    "\n",
    "import numpy as np\n",
    "print(np.shape(train_texts))\n",
    "print(np.shape(val_texts))\n",
    "print(train_texts[0][:60])"
   ]
  },
  {
   "cell_type": "code",
   "execution_count": 4,
   "metadata": {},
   "outputs": [],
   "source": [
    "# max_ctx_length = 512\n",
    "# train_input_ids = process_sequences(\n",
    "#     train_texts, tokenizer, max_ctx_length, stride=max_ctx_length // 2\n",
    "# )\n",
    "# val_input_ids = process_sequences(\n",
    "#     val_texts, tokenizer, max_ctx_length, stride=max_ctx_length\n",
    "# )\n",
    "\n",
    "# batch_size = 4\n",
    "# learning_rate = 1e-5\n",
    "\n",
    "# optimizer = torch.optim.Adam(\n",
    "#     (p for p in model.parameters() if p.requires_grad), lr=learning_rate\n",
    "# )\n",
    "# train_dataset = TensorDataset(train_input_ids)\n",
    "# train_loader = DataLoader(train_dataset, batch_size=batch_size, shuffle=True)\n",
    "\n",
    "\n",
    "# # Prepare components with Accelerator\n",
    "# accelerator = Accelerator()\n",
    "# model, optimizer, train_loader = accelerator.prepare(model, optimizer, train_loader)\n",
    "\n",
    "# model.train()\n",
    "# steps = 0\n",
    "# while steps < 10000:\n",
    "#     progress_bar = tqdm(train_loader, desc=f\"Steps {steps}\")\n",
    "#     for (batch,) in progress_bar:\n",
    "#         optimizer.zero_grad()\n",
    "#         outputs = model(batch, labels=batch)\n",
    "#         loss = outputs.loss\n",
    "#         accelerator.backward(loss)\n",
    "#         optimizer.step()\n",
    "#         steps += 1\n",
    "\n",
    "#         progress_bar.set_postfix(loss=loss.item())\n",
    "#         if steps > 10000:\n",
    "#             break\n",
    "\n",
    "# model.eval()\n"
   ]
  },
  {
   "cell_type": "code",
   "execution_count": 5,
   "metadata": {},
   "outputs": [],
   "source": [
    "# import wandb\n",
    "# from torch.utils.data import DataLoader, TensorDataset\n",
    "# from tqdm import tqdm\n",
    "# import torch\n",
    "# from accelerate import Accelerator\n",
    "\n",
    "\n",
    "# batch_size = 4\n",
    "# learning_rate = 1e-5\n",
    "# max_ctx_length = 512\n",
    "\n",
    "\n",
    "# # Initialize wandb project\n",
    "# wandb.init(project=\"your_project_name\", config={\n",
    "#     \"batch_size\": batch_size,\n",
    "#     \"learning_rate\": learning_rate,\n",
    "#     \"max_ctx_length\": max_ctx_length\n",
    "# })\n",
    "\n",
    "# # Prepare the data\n",
    "# train_input_ids = process_sequences(train_texts, tokenizer, max_ctx_length, stride=max_ctx_length // 2)\n",
    "# val_input_ids = process_sequences(val_texts, tokenizer, max_ctx_length, stride=max_ctx_length)\n",
    "\n",
    "\n",
    "# optimizer = torch.optim.Adam((p for p in model.parameters() if p.requires_grad), lr=learning_rate)\n",
    "\n",
    "# train_dataset = TensorDataset(train_input_ids)\n",
    "# train_loader = DataLoader(train_dataset, batch_size=batch_size, shuffle=True)\n",
    "\n",
    "# # Prepare components with Accelerator\n",
    "# accelerator = Accelerator()\n",
    "# model, optimizer, train_loader = accelerator.prepare(model, optimizer, train_loader)\n",
    "\n",
    "# # Set the model to training mode\n",
    "# model.train()\n",
    "\n",
    "# steps = 0\n",
    "# while steps < 10000:\n",
    "#     progress_bar = tqdm(train_loader, desc=f\"Steps {steps}\")\n",
    "#     for (batch,) in progress_bar:\n",
    "#         optimizer.zero_grad()\n",
    "        \n",
    "#         # Forward pass\n",
    "#         outputs = model(batch, labels=batch)\n",
    "#         loss = outputs.loss\n",
    "        \n",
    "#         # Backward pass\n",
    "#         accelerator.backward(loss)\n",
    "        \n",
    "#         # Update the model weights\n",
    "#         optimizer.step()\n",
    "        \n",
    "#         # Log the loss to WandB\n",
    "#         wandb.log({\"loss\": loss.item(), \"steps\": steps})\n",
    "        \n",
    "#         steps += 1\n",
    "#         progress_bar.set_postfix(loss=loss.item())\n",
    "        \n",
    "#         if steps > 10000:\n",
    "#             break\n",
    "\n",
    "# # Evaluate the model\n",
    "# model.eval()\n",
    "\n",
    "# # Close the wandb run\n",
    "# wandb.finish()\n"
   ]
  },
  {
   "cell_type": "code",
   "execution_count": null,
   "metadata": {},
   "outputs": [
    {
     "name": "stderr",
     "output_type": "stream",
     "text": [
      "huggingface/tokenizers: The current process just got forked, after parallelism has already been used. Disabling parallelism to avoid deadlocks...\n",
      "To disable this warning, you can either:\n",
      "\t- Avoid using `tokenizers` before the fork if possible\n",
      "\t- Explicitly set the environment variable TOKENIZERS_PARALLELISM=(true | false)\n",
      "huggingface/tokenizers: The current process just got forked, after parallelism has already been used. Disabling parallelism to avoid deadlocks...\n",
      "To disable this warning, you can either:\n",
      "\t- Avoid using `tokenizers` before the fork if possible\n",
      "\t- Explicitly set the environment variable TOKENIZERS_PARALLELISM=(true | false)\n",
      "\u001b[34m\u001b[1mwandb\u001b[0m: Using wandb-core as the SDK backend.  Please refer to https://wandb.me/wandb-core for more information.\n",
      "huggingface/tokenizers: The current process just got forked, after parallelism has already been used. Disabling parallelism to avoid deadlocks...\n",
      "To disable this warning, you can either:\n",
      "\t- Avoid using `tokenizers` before the fork if possible\n",
      "\t- Explicitly set the environment variable TOKENIZERS_PARALLELISM=(true | false)\n",
      "\u001b[34m\u001b[1mwandb\u001b[0m: Currently logged in as: \u001b[33mellagcole02\u001b[0m (\u001b[33mellagcole02-university-of-cambridge\u001b[0m) to \u001b[32mhttps://api.wandb.ai\u001b[0m. Use \u001b[1m`wandb login --relogin`\u001b[0m to force relogin\n",
      "huggingface/tokenizers: The current process just got forked, after parallelism has already been used. Disabling parallelism to avoid deadlocks...\n",
      "To disable this warning, you can either:\n",
      "\t- Avoid using `tokenizers` before the fork if possible\n",
      "\t- Explicitly set the environment variable TOKENIZERS_PARALLELISM=(true | false)\n",
      "huggingface/tokenizers: The current process just got forked, after parallelism has already been used. Disabling parallelism to avoid deadlocks...\n",
      "To disable this warning, you can either:\n",
      "\t- Avoid using `tokenizers` before the fork if possible\n",
      "\t- Explicitly set the environment variable TOKENIZERS_PARALLELISM=(true | false)\n"
     ]
    },
    {
     "data": {
      "text/html": [
       "Tracking run with wandb version 0.19.7.dev1"
      ],
      "text/plain": [
       "<IPython.core.display.HTML object>"
      ]
     },
     "metadata": {},
     "output_type": "display_data"
    },
    {
     "data": {
      "text/html": [
       "Run data is saved locally in <code>/Users/ellacole/Documents/Cambridge/Year 1/M2/my_coursework/coursework/egc41/wandb/run-20250321_151828-asdhx2kn</code>"
      ],
      "text/plain": [
       "<IPython.core.display.HTML object>"
      ]
     },
     "metadata": {},
     "output_type": "display_data"
    },
    {
     "data": {
      "text/html": [
       "Syncing run <strong><a href='https://wandb.ai/ellagcole02-university-of-cambridge/LORA_initital/runs/asdhx2kn' target=\"_blank\">upbeat-waterfall-15</a></strong> to <a href='https://wandb.ai/ellagcole02-university-of-cambridge/LORA_initital' target=\"_blank\">Weights & Biases</a> (<a href='https://wandb.me/developer-guide' target=\"_blank\">docs</a>)<br>"
      ],
      "text/plain": [
       "<IPython.core.display.HTML object>"
      ]
     },
     "metadata": {},
     "output_type": "display_data"
    },
    {
     "data": {
      "text/html": [
       " View project at <a href='https://wandb.ai/ellagcole02-university-of-cambridge/LORA_initital' target=\"_blank\">https://wandb.ai/ellagcole02-university-of-cambridge/LORA_initital</a>"
      ],
      "text/plain": [
       "<IPython.core.display.HTML object>"
      ]
     },
     "metadata": {},
     "output_type": "display_data"
    },
    {
     "data": {
      "text/html": [
       " View run at <a href='https://wandb.ai/ellagcole02-university-of-cambridge/LORA_initital/runs/asdhx2kn' target=\"_blank\">https://wandb.ai/ellagcole02-university-of-cambridge/LORA_initital/runs/asdhx2kn</a>"
      ],
      "text/plain": [
       "<IPython.core.display.HTML object>"
      ]
     },
     "metadata": {},
     "output_type": "display_data"
    },
    {
     "name": "stdout",
     "output_type": "stream",
     "text": [
      "Device: mps\n"
     ]
    },
    {
     "name": "stderr",
     "output_type": "stream",
     "text": [
      "Steps 0:   0%|          | 0/1600 [00:00<?, ?it/s]huggingface/tokenizers: The current process just got forked, after parallelism has already been used. Disabling parallelism to avoid deadlocks...\n",
      "To disable this warning, you can either:\n",
      "\t- Avoid using `tokenizers` before the fork if possible\n",
      "\t- Explicitly set the environment variable TOKENIZERS_PARALLELISM=(true | false)\n",
      "Steps 0:  13%|█▎        | 215/1600 [06:45<39:50,  1.73s/it, loss=0.736]  "
     ]
    }
   ],
   "source": [
    "batch_size = 2\n",
    "learning_rate = 1e-5\n",
    "max_ctx_length = 512\n",
    "\n",
    "\n",
    "# Initialize wandb project\n",
    "wandb.init(project=\"LORA_initital\", config={\n",
    "    \"batch_size\": batch_size,\n",
    "    \"learning_rate\": learning_rate,\n",
    "    \"max_ctx_length\": 512\n",
    "})\n",
    "\n",
    "# Defines the maximum context length\n",
    "torch.mps.empty_cache() \n",
    "device = torch.device(\"mps\" if torch.backends.mps.is_available() else \"cpu\")\n",
    "print('Device:', device)\n",
    "\n",
    "train_input_ids = process_sequences(\n",
    "    train_texts, tokenizer, max_ctx_length, stride=max_ctx_length // 2\n",
    ")\n",
    "val_input_ids = process_sequences(\n",
    "    val_texts, tokenizer, max_ctx_length, stride=max_ctx_length\n",
    ")\n",
    "\n",
    "optimizer = torch.optim.Adam(\n",
    "    (p for p in model.parameters() if p.requires_grad), lr=learning_rate\n",
    ")\n",
    "train_dataset = TensorDataset(train_input_ids)\n",
    "train_loader = DataLoader(train_dataset, batch_size=batch_size, shuffle=True)\n",
    "\n",
    "\n",
    "# Prepare components with Accelerator\n",
    "accelerator = Accelerator()\n",
    "model, optimizer, train_loader = accelerator.prepare(model, optimizer, train_loader)\n",
    "\n",
    "model.to(device)\n",
    "\n",
    "model.train()\n",
    "steps = 0\n",
    "while steps < 10000:\n",
    "    progress_bar = tqdm(train_loader, desc=f\"Steps {steps}\")\n",
    "    for (batch,) in progress_bar:\n",
    "        optimizer.zero_grad()\n",
    "        outputs = model(batch.to(device), labels=batch.to(device))\n",
    "        loss = outputs.loss\n",
    "        accelerator.backward(loss)\n",
    "        optimizer.step()\n",
    "        wandb.log({\"loss\": loss.item(), \"steps\": steps})\n",
    "        steps += 1\n",
    "\n",
    "        progress_bar.set_postfix(loss=loss.item())\n",
    "        if steps > 10000:\n",
    "            break\n",
    "\n",
    "model.eval()\n",
    "\n",
    "wandb.finish()"
   ]
  },
  {
   "cell_type": "code",
   "execution_count": 1,
   "metadata": {},
   "outputs": [
    {
     "ename": "NameError",
     "evalue": "name 'model' is not defined",
     "output_type": "error",
     "traceback": [
      "\u001b[0;31m---------------------------------------------------------------------------\u001b[0m",
      "\u001b[0;31mNameError\u001b[0m                                 Traceback (most recent call last)",
      "Cell \u001b[0;32mIn[1], line 4\u001b[0m\n\u001b[1;32m      1\u001b[0m \u001b[38;5;28;01mimport\u001b[39;00m \u001b[38;5;21;01mtorch\u001b[39;00m\n\u001b[1;32m      3\u001b[0m \u001b[38;5;66;03m# Check if the model is on GPU\u001b[39;00m\n\u001b[0;32m----> 4\u001b[0m \u001b[38;5;28;01mif\u001b[39;00m \u001b[38;5;28mnext\u001b[39m(\u001b[43mmodel\u001b[49m\u001b[38;5;241m.\u001b[39mparameters())\u001b[38;5;241m.\u001b[39mis_cuda:\n\u001b[1;32m      5\u001b[0m     \u001b[38;5;28mprint\u001b[39m(\u001b[38;5;124m\"\u001b[39m\u001b[38;5;124mModel is on GPU\u001b[39m\u001b[38;5;124m\"\u001b[39m)\n\u001b[1;32m      6\u001b[0m \u001b[38;5;28;01melse\u001b[39;00m:\n",
      "\u001b[0;31mNameError\u001b[0m: name 'model' is not defined"
     ]
    }
   ],
   "source": [
    "import torch\n",
    "\n",
    "# Check if the model is on GPU\n",
    "if next(model.parameters()).is_cuda:\n",
    "    print(\"Model is on GPU\")\n",
    "else:\n",
    "    print(\"Model is on CPU\")\n"
   ]
  },
  {
   "cell_type": "code",
   "execution_count": 8,
   "metadata": {},
   "outputs": [
    {
     "ename": "NameError",
     "evalue": "name 'original_linear' is not defined",
     "output_type": "error",
     "traceback": [
      "\u001b[0;31m---------------------------------------------------------------------------\u001b[0m",
      "\u001b[0;31mNameError\u001b[0m                                 Traceback (most recent call last)",
      "Cell \u001b[0;32mIn[8], line 4\u001b[0m\n\u001b[1;32m      1\u001b[0m \u001b[38;5;28;01mimport\u001b[39;00m \u001b[38;5;21;01mtorch\u001b[39;00m\n\u001b[1;32m      3\u001b[0m \u001b[38;5;66;03m# Get the device of the model's weight tensor\u001b[39;00m\n\u001b[0;32m----> 4\u001b[0m device \u001b[38;5;241m=\u001b[39m \u001b[43moriginal_linear\u001b[49m\u001b[38;5;241m.\u001b[39mweight\u001b[38;5;241m.\u001b[39mdevice\n\u001b[1;32m      6\u001b[0m \u001b[38;5;66;03m# Check if the device is on GPU\u001b[39;00m\n\u001b[1;32m      7\u001b[0m \u001b[38;5;28;01mif\u001b[39;00m device\u001b[38;5;241m.\u001b[39mtype \u001b[38;5;241m==\u001b[39m \u001b[38;5;124m'\u001b[39m\u001b[38;5;124mcuda\u001b[39m\u001b[38;5;124m'\u001b[39m:\n",
      "\u001b[0;31mNameError\u001b[0m: name 'original_linear' is not defined"
     ]
    }
   ],
   "source": [
    "\n"
   ]
  },
  {
   "cell_type": "code",
   "execution_count": null,
   "metadata": {},
   "outputs": [],
   "source": []
  }
 ],
 "metadata": {
  "kernelspec": {
   "display_name": "mphil",
   "language": "python",
   "name": "python3"
  },
  "language_info": {
   "codemirror_mode": {
    "name": "ipython",
    "version": 3
   },
   "file_extension": ".py",
   "mimetype": "text/x-python",
   "name": "python",
   "nbconvert_exporter": "python",
   "pygments_lexer": "ipython3",
   "version": "3.9.18"
  }
 },
 "nbformat": 4,
 "nbformat_minor": 2
}
